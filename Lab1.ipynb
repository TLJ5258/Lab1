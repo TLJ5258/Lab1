{
  "nbformat": 4,
  "nbformat_minor": 0,
  "metadata": {
    "colab": {
      "name": "Lab1.ipynb",
      "provenance": [],
      "authorship_tag": "ABX9TyNbA1NwhrxWvwJ9C+8Hd7wP",
      "include_colab_link": true
    },
    "kernelspec": {
      "name": "python3",
      "display_name": "Python 3"
    }
  },
  "cells": [
    {
      "cell_type": "markdown",
      "metadata": {
        "id": "view-in-github",
        "colab_type": "text"
      },
      "source": [
        "<a href=\"https://colab.research.google.com/github/TLJ5258/Lab1/blob/master/Lab1.ipynb\" target=\"_parent\"><img src=\"https://colab.research.google.com/assets/colab-badge.svg\" alt=\"Open In Colab\"/></a>"
      ]
    },
    {
      "cell_type": "markdown",
      "metadata": {
        "id": "wb8yXs5AA2wQ",
        "colab_type": "text"
      },
      "source": [
        "###Do you like using Jupyter Notebooks?"
      ]
    },
    {
      "cell_type": "markdown",
      "metadata": {
        "id": "_Tr0XR_EA-0o",
        "colab_type": "text"
      },
      "source": [
        "So far, using Jupyter Notebooks has been enjoyable. It's my first time using it, but I could see myself using it in the future. "
      ]
    },
    {
      "cell_type": "markdown",
      "metadata": {
        "id": "x2t-qDh7CXJZ",
        "colab_type": "text"
      },
      "source": [
        "###What do you want to learn more about in Jupyter Notebooks?"
      ]
    },
    {
      "cell_type": "markdown",
      "metadata": {
        "id": "IbhON_z6CXZV",
        "colab_type": "text"
      },
      "source": [
        "I'd like to know more about organizing and formatting my code within my notebook. I also want to use and create meaningful visualizations. "
      ]
    },
    {
      "cell_type": "markdown",
      "metadata": {
        "id": "qoDQqhMRZA-b",
        "colab_type": "text"
      },
      "source": [
        "![Painting](https://raw.githubusercontent.com/TLJ5258/Lab1/master/San%20Giorgio%20Maggiore%20by%20Twilight%20by%20Claude%20Monet%20OSA071.jpg)"
      ]
    }
  ]
}