{
  "nbformat": 4,
  "nbformat_minor": 0,
  "metadata": {
    "colab": {
      "name": "Lab1.ipynb",
      "provenance": [],
      "authorship_tag": "ABX9TyPIXTAPoOywgjguwSYPWarK",
      "include_colab_link": true
    },
    "kernelspec": {
      "name": "python3",
      "display_name": "Python 3"
    }
  },
  "cells": [
    {
      "cell_type": "markdown",
      "metadata": {
        "id": "view-in-github",
        "colab_type": "text"
      },
      "source": [
        "<a href=\"https://colab.research.google.com/github/TLJ5258/Lab1/blob/master/Lab1.ipynb\" target=\"_parent\"><img src=\"https://colab.research.google.com/assets/colab-badge.svg\" alt=\"Open In Colab\"/></a>"
      ]
    },
    {
      "cell_type": "markdown",
      "metadata": {
        "id": "wb8yXs5AA2wQ",
        "colab_type": "text"
      },
      "source": [
        "###Do you like using Jupyter Notebooks?"
      ]
    },
    {
      "cell_type": "markdown",
      "metadata": {
        "id": "_Tr0XR_EA-0o",
        "colab_type": "text"
      },
      "source": [
        "So far, using Jupyter Notebooks has been enjoyable. It's my first time using it, but I could see myself using it in the future. "
      ]
    },
    {
      "cell_type": "markdown",
      "metadata": {
        "id": "x2t-qDh7CXJZ",
        "colab_type": "text"
      },
      "source": [
        "###What do you want to learn more about in Jupyter Notebooks?"
      ]
    },
    {
      "cell_type": "markdown",
      "metadata": {
        "id": "IbhON_z6CXZV",
        "colab_type": "text"
      },
      "source": [
        "I'd like to know more about organizing and formatting my code within my notebook. I also want to use and create meaningful visualizations. "
      ]
    },
    {
      "cell_type": "markdown",
      "metadata": {
        "id": "9-ra6MPPHdI8",
        "colab_type": "text"
      },
      "source": [
        "![ClaudeMonetSanGiorgioMaggioreAtDusk.jpg](data:image/jpeg;base64,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)"
      ]
    }
  ]
}